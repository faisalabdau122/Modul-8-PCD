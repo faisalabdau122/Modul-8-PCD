{
  "nbformat": 4,
  "nbformat_minor": 0,
  "metadata": {
    "colab": {
      "provenance": []
    },
    "kernelspec": {
      "name": "python3",
      "display_name": "Python 3"
    },
    "language_info": {
      "name": "python"
    }
  },
  "cells": [
    {
      "cell_type": "code",
      "execution_count": 2,
      "metadata": {
        "colab": {
          "base_uri": "https://localhost:8080/",
          "height": 246
        },
        "id": "ByIKFC-cb_DW",
        "outputId": "bfa95e95-82a4-4630-b65c-dfd326a90456"
      },
      "outputs": [
        {
          "output_type": "error",
          "ename": "error",
          "evalue": "ignored",
          "traceback": [
            "\u001b[0;31m---------------------------------------------------------------------------\u001b[0m",
            "\u001b[0;31merror\u001b[0m                                     Traceback (most recent call last)",
            "\u001b[0;32m<ipython-input-2-eab0da3d44e8>\u001b[0m in \u001b[0;36m<cell line: 5>\u001b[0;34m()\u001b[0m\n\u001b[1;32m      3\u001b[0m \u001b[0;34m\u001b[0m\u001b[0m\n\u001b[1;32m      4\u001b[0m \u001b[0mimg0\u001b[0m \u001b[0;34m=\u001b[0m \u001b[0mcv2\u001b[0m\u001b[0;34m.\u001b[0m\u001b[0mimread\u001b[0m\u001b[0;34m(\u001b[0m\u001b[0;34m'cat.jpg'\u001b[0m\u001b[0;34m)\u001b[0m\u001b[0;34m\u001b[0m\u001b[0;34m\u001b[0m\u001b[0m\n\u001b[0;32m----> 5\u001b[0;31m \u001b[0mgray\u001b[0m \u001b[0;34m=\u001b[0m \u001b[0mcv2\u001b[0m\u001b[0;34m.\u001b[0m\u001b[0mcvtColor\u001b[0m\u001b[0;34m(\u001b[0m\u001b[0mimg0\u001b[0m\u001b[0;34m,\u001b[0m \u001b[0mcv2\u001b[0m\u001b[0;34m.\u001b[0m\u001b[0mCOLOR_BGR2GRAY\u001b[0m\u001b[0;34m)\u001b[0m\u001b[0;34m\u001b[0m\u001b[0;34m\u001b[0m\u001b[0m\n\u001b[0m\u001b[1;32m      6\u001b[0m \u001b[0;34m\u001b[0m\u001b[0m\n\u001b[1;32m      7\u001b[0m \u001b[0mimg\u001b[0m \u001b[0;34m=\u001b[0m \u001b[0mcv2\u001b[0m\u001b[0;34m.\u001b[0m\u001b[0mGaussianBlur\u001b[0m\u001b[0;34m(\u001b[0m\u001b[0mgray\u001b[0m\u001b[0;34m,\u001b[0m \u001b[0;34m(\u001b[0m\u001b[0;36m3\u001b[0m\u001b[0;34m,\u001b[0m \u001b[0;36m3\u001b[0m\u001b[0;34m)\u001b[0m\u001b[0;34m,\u001b[0m \u001b[0;36m0\u001b[0m\u001b[0;34m)\u001b[0m\u001b[0;34m\u001b[0m\u001b[0;34m\u001b[0m\u001b[0m\n",
            "\u001b[0;31merror\u001b[0m: OpenCV(4.7.0) /io/opencv/modules/imgproc/src/color.cpp:182: error: (-215:Assertion failed) !_src.empty() in function 'cvtColor'\n"
          ]
        }
      ],
      "source": [
        "import cv2\n",
        "import numpy as np\n",
        "import matplotlib.pyplot as plt\n",
        "from skimage import data\n",
        "\n",
        "img = data.camera()\n",
        "\n",
        "kernelx = np.array([[1, 1, 1], [0, 0, 0], [-1, -1, -1]])\n",
        "kernely = np.array([[-1, 0, 1], [-1, 0, 1], [-1, 0, 1]])\n",
        "\n",
        "img_prewittx = cv2.filter2D(img, -1, kernelx)\n",
        "img_prewitty = cv2.filter2D(img, -1, kernely)\n",
        "img_prewitt= img_prewittx + img_prewitty\n",
        "\n",
        "fig, axes = plt.subplots(4, 2, figsize=(20, 20))\n",
        "ax = axes.ravel()\n",
        "\n",
        "ax[0].imshow(img, cmap ='gray')\n",
        "ax[0].set_title(\"Citra Input\")\n",
        "ax[1].hist(img.ravel(), bins=256)\n",
        "ax[1].set_title(\"Histogram Citra Input\")\n",
        "\n",
        "ax[2].imshow(img_prewittx, cmap='gray')\n",
        "ax[2].set_title(\"Citra Output Prewitt X\")\n",
        "ax[3].hist(img_prewittx.ravel(), bins=256)\n",
        "ax[3].set_title(\"Histogram Citra Output Prewitt X\")\n",
        "\n",
        "ax[4].imshow(img_prewitty, cmap='gray')\n",
        "ax[4].set_title(\"Citra Output Prewitt Y\")\n",
        "ax[5].hist(img_prewitty.ravel(), bins=256)\n",
        "ax[5].set_title(\"Histogram Citra Output Prewitt Y\")\n",
        "\n",
        "ax[6].imshow(img_prewitt, cmap='gray')\n",
        "ax[6].set_title(\"Citra Output Prewitt\")\n",
        "ax[7].hist(img_prewitt.ravel(), bins=256)\n",
        "ax[7].set_title(\"Histogram Citra Output Prewitt\")\n",
        "\n",
        "fig.tight_layout()\n",
        "plt.show()\n"
      ]
    }
  ]
}